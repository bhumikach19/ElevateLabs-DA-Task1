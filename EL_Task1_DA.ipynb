{
  "nbformat": 4,
  "nbformat_minor": 0,
  "metadata": {
    "colab": {
      "provenance": []
    },
    "kernelspec": {
      "name": "python3",
      "display_name": "Python 3"
    },
    "language_info": {
      "name": "python"
    }
  },
  "cells": [
    {
      "cell_type": "code",
      "execution_count": 7,
      "metadata": {
        "colab": {
          "base_uri": "https://localhost:8080/"
        },
        "id": "tOu5-KPWA-yb",
        "outputId": "c88f9ac2-d230-4aab-a1c7-4b968ea954c1"
      },
      "outputs": [
        {
          "output_type": "stream",
          "name": "stdout",
          "text": [
            "Initial shape: (7787, 12)\n",
            "  show_id     type  title           director  \\\n",
            "0      s1  TV Show     3%                NaN   \n",
            "1      s2    Movie   7:19  Jorge Michel Grau   \n",
            "2      s3    Movie  23:59       Gilbert Chan   \n",
            "3      s4    Movie      9        Shane Acker   \n",
            "4      s5    Movie     21     Robert Luketic   \n",
            "\n",
            "                                                cast        country  \\\n",
            "0  João Miguel, Bianca Comparato, Michel Gomes, R...         Brazil   \n",
            "1  Demián Bichir, Héctor Bonilla, Oscar Serrano, ...         Mexico   \n",
            "2  Tedd Chan, Stella Chung, Henley Hii, Lawrence ...      Singapore   \n",
            "3  Elijah Wood, John C. Reilly, Jennifer Connelly...  United States   \n",
            "4  Jim Sturgess, Kevin Spacey, Kate Bosworth, Aar...  United States   \n",
            "\n",
            "          date_added  release_year rating   duration  \\\n",
            "0    August 14, 2020          2020  TV-MA  4 Seasons   \n",
            "1  December 23, 2016          2016  TV-MA     93 min   \n",
            "2  December 20, 2018          2011      R     78 min   \n",
            "3  November 16, 2017          2009  PG-13     80 min   \n",
            "4    January 1, 2020          2008  PG-13    123 min   \n",
            "\n",
            "                                           listed_in  \\\n",
            "0  International TV Shows, TV Dramas, TV Sci-Fi &...   \n",
            "1                       Dramas, International Movies   \n",
            "2                Horror Movies, International Movies   \n",
            "3  Action & Adventure, Independent Movies, Sci-Fi...   \n",
            "4                                             Dramas   \n",
            "\n",
            "                                         description  \n",
            "0  In a future where the elite inhabit an island ...  \n",
            "1  After a devastating earthquake hits Mexico Cit...  \n",
            "2  When an army recruit is found dead, his fellow...  \n",
            "3  In a postapocalyptic world, rag-doll robots hi...  \n",
            "4  A brilliant group of students become card-coun...  \n"
          ]
        }
      ],
      "source": [
        "# Import Library\n",
        "import pandas as pd\n",
        "\n",
        "# Load the dataset\n",
        "df = pd.read_csv('/content/Netflix_movies_and_tv_shows_clustering.csv')\n",
        "print(\"Initial shape:\", df.shape)\n",
        "print(df.head())"
      ]
    },
    {
      "cell_type": "code",
      "source": [
        "# Rename columns to lowercase with underscores\n",
        "df.columns = df.columns.str.strip().str.lower().str.replace(\" \", \"_\")\n",
        "\n",
        "# Check for missing values\n",
        "print(\"\\nMissing values:\\n\", df.isnull().sum())\n",
        "\n",
        "# Drop missing values if found\n",
        "df = df.dropna()\n",
        "\n",
        "# Remove duplicate rows\n",
        "df = df.drop_duplicates()\n",
        "print(\"\\nShape after removing duplicates:\", df.shape)"
      ],
      "metadata": {
        "colab": {
          "base_uri": "https://localhost:8080/"
        },
        "id": "xKGTGxvAB52D",
        "outputId": "2b7c17ff-b5e4-419b-f6fa-500162a09642"
      },
      "execution_count": 8,
      "outputs": [
        {
          "output_type": "stream",
          "name": "stdout",
          "text": [
            "\n",
            "Missing values:\n",
            " show_id            0\n",
            "type               0\n",
            "title              0\n",
            "director        2389\n",
            "cast             718\n",
            "country          507\n",
            "date_added        10\n",
            "release_year       0\n",
            "rating             7\n",
            "duration           0\n",
            "listed_in          0\n",
            "description        0\n",
            "dtype: int64\n",
            "\n",
            "Shape after removing duplicates: (4808, 12)\n"
          ]
        }
      ]
    },
    {
      "cell_type": "code",
      "source": [
        "# Standardize text fields\n",
        "# Example: Standardize gender values (e.g., Male/Female variations)\n",
        "if 'director' in df.columns:\n",
        "    df['director'] = df['director'].str.strip().str.capitalize()"
      ],
      "metadata": {
        "id": "cG5Pt0puCQez"
      },
      "execution_count": 9,
      "outputs": []
    },
    {
      "cell_type": "code",
      "source": [
        "# Convert and check data types\n",
        "# Example: Make sure 'age' is integer\n",
        "if 'ratings' in df.columns:\n",
        "    df['ratings'] = df['ratings'].astype(int)"
      ],
      "metadata": {
        "id": "QETVI3W2Cb-w"
      },
      "execution_count": 11,
      "outputs": []
    },
    {
      "cell_type": "code",
      "source": [
        "# Save cleaned dataset\n",
        "df.to_csv('Netflix_Cleaned.csv', index=False)\n",
        "print(\"\\nCleaned data preview:\")\n",
        "print(df.head())"
      ],
      "metadata": {
        "colab": {
          "base_uri": "https://localhost:8080/"
        },
        "id": "uM2FgMKCCkp7",
        "outputId": "4c9192c8-6d40-4724-a2c2-2fcd6f67ebfe"
      },
      "execution_count": 12,
      "outputs": [
        {
          "output_type": "stream",
          "name": "stdout",
          "text": [
            "\n",
            "Cleaned data preview:\n",
            "  show_id     type  title           director  \\\n",
            "1      s2    Movie   7:19  Jorge michel grau   \n",
            "2      s3    Movie  23:59       Gilbert chan   \n",
            "3      s4    Movie      9        Shane acker   \n",
            "4      s5    Movie     21     Robert luketic   \n",
            "5      s6  TV Show     46        Serdar akar   \n",
            "\n",
            "                                                cast        country  \\\n",
            "1  Demián Bichir, Héctor Bonilla, Oscar Serrano, ...         Mexico   \n",
            "2  Tedd Chan, Stella Chung, Henley Hii, Lawrence ...      Singapore   \n",
            "3  Elijah Wood, John C. Reilly, Jennifer Connelly...  United States   \n",
            "4  Jim Sturgess, Kevin Spacey, Kate Bosworth, Aar...  United States   \n",
            "5  Erdal Beşikçioğlu, Yasemin Allen, Melis Birkan...         Turkey   \n",
            "\n",
            "          date_added  release_year rating  duration  \\\n",
            "1  December 23, 2016          2016  TV-MA    93 min   \n",
            "2  December 20, 2018          2011      R    78 min   \n",
            "3  November 16, 2017          2009  PG-13    80 min   \n",
            "4    January 1, 2020          2008  PG-13   123 min   \n",
            "5       July 1, 2017          2016  TV-MA  1 Season   \n",
            "\n",
            "                                           listed_in  \\\n",
            "1                       Dramas, International Movies   \n",
            "2                Horror Movies, International Movies   \n",
            "3  Action & Adventure, Independent Movies, Sci-Fi...   \n",
            "4                                             Dramas   \n",
            "5    International TV Shows, TV Dramas, TV Mysteries   \n",
            "\n",
            "                                         description  \n",
            "1  After a devastating earthquake hits Mexico Cit...  \n",
            "2  When an army recruit is found dead, his fellow...  \n",
            "3  In a postapocalyptic world, rag-doll robots hi...  \n",
            "4  A brilliant group of students become card-coun...  \n",
            "5  A genetics professor experiments with a treatm...  \n"
          ]
        }
      ]
    },
    {
      "cell_type": "code",
      "source": [],
      "metadata": {
        "id": "Nm8yRSvWCwCA"
      },
      "execution_count": null,
      "outputs": []
    }
  ]
}