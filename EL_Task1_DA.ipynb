{
  "nbformat": 4,
  "nbformat_minor": 0,
  "metadata": {
    "colab": {
      "provenance": []
    },
    "kernelspec": {
      "name": "python3",
      "display_name": "Python 3"
    },
    "language_info": {
      "name": "python"
    }
  },
  "cells": [
    {
      "cell_type": "code",
      "execution_count": 1,
      "metadata": {
        "colab": {
          "base_uri": "https://localhost:8080/"
        },
        "id": "tOu5-KPWA-yb",
        "outputId": "1dc883b0-353b-4370-d3ab-cb8237584326"
      },
      "outputs": [
        {
          "output_type": "stream",
          "name": "stdout",
          "text": [
            "Initial shape: (200, 5)\n",
            "   CustomerID  Gender  Age  Annual Income (k$)  Spending Score (1-100)\n",
            "0           1    Male   19                  15                      39\n",
            "1           2    Male   21                  15                      81\n",
            "2           3  Female   20                  16                       6\n",
            "3           4  Female   23                  16                      77\n",
            "4           5  Female   31                  17                      40\n"
          ]
        }
      ],
      "source": [
        "# Import Library\n",
        "import pandas as pd\n",
        "\n",
        "# Load the dataset\n",
        "df = pd.read_csv('/content/Mall_Customers.csv')\n",
        "print(\"Initial shape:\", df.shape)\n",
        "print(df.head())"
      ]
    },
    {
      "cell_type": "code",
      "source": [
        "# Rename columns to lowercase with underscores\n",
        "df.columns = df.columns.str.strip().str.lower().str.replace(\" \", \"_\")\n",
        "\n",
        "# Check for missing values\n",
        "print(\"\\nMissing values:\\n\", df.isnull().sum())\n",
        "\n",
        "# Drop missing values if found\n",
        "df = df.dropna()\n",
        "\n",
        "# Remove duplicate rows\n",
        "df = df.drop_duplicates()\n",
        "print(\"\\nShape after removing duplicates:\", df.shape)"
      ],
      "metadata": {
        "colab": {
          "base_uri": "https://localhost:8080/"
        },
        "id": "xKGTGxvAB52D",
        "outputId": "e0155e53-3a39-47cf-e4ca-978460de3889"
      },
      "execution_count": 2,
      "outputs": [
        {
          "output_type": "stream",
          "name": "stdout",
          "text": [
            "\n",
            "Missing values:\n",
            " customerid                0\n",
            "gender                    0\n",
            "age                       0\n",
            "annual_income_(k$)        0\n",
            "spending_score_(1-100)    0\n",
            "dtype: int64\n",
            "\n",
            "Shape after removing duplicates: (200, 5)\n"
          ]
        }
      ]
    },
    {
      "cell_type": "code",
      "source": [
        "# Standardize text fields\n",
        "# Example: Standardize gender values (e.g., Male/Female variations)\n",
        "if 'gender' in df.columns:\n",
        "    df['gender'] = df['gender'].str.strip().str.capitalize()"
      ],
      "metadata": {
        "id": "cG5Pt0puCQez"
      },
      "execution_count": 3,
      "outputs": []
    },
    {
      "cell_type": "code",
      "source": [
        "# Convert and check data types\n",
        "# Example: Make sure 'age' is integer\n",
        "if 'age' in df.columns:\n",
        "    df['age'] = df['age'].astype(int)"
      ],
      "metadata": {
        "id": "QETVI3W2Cb-w"
      },
      "execution_count": 5,
      "outputs": []
    },
    {
      "cell_type": "code",
      "source": [
        "# Save cleaned dataset\n",
        "df.to_csv('Mall_Customers_Cleaned.csv', index=False)\n",
        "print(\"\\nCleaned data preview:\")\n",
        "print(df.head())"
      ],
      "metadata": {
        "colab": {
          "base_uri": "https://localhost:8080/"
        },
        "id": "uM2FgMKCCkp7",
        "outputId": "e828e184-b5ab-41d4-c585-1f7530f9bb1a"
      },
      "execution_count": 6,
      "outputs": [
        {
          "output_type": "stream",
          "name": "stdout",
          "text": [
            "\n",
            "Cleaned data preview:\n",
            "   customerid  gender  age  annual_income_(k$)  spending_score_(1-100)\n",
            "0           1    Male   19                  15                      39\n",
            "1           2    Male   21                  15                      81\n",
            "2           3  Female   20                  16                       6\n",
            "3           4  Female   23                  16                      77\n",
            "4           5  Female   31                  17                      40\n"
          ]
        }
      ]
    },
    {
      "cell_type": "code",
      "source": [],
      "metadata": {
        "id": "Nm8yRSvWCwCA"
      },
      "execution_count": null,
      "outputs": []
    }
  ]
}